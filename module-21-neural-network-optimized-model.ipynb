{
 "cells": [
  {
   "cell_type": "markdown",
   "metadata": {
    "id": "u1rIUGHRCyPd"
   },
   "source": [
    "## Preprocessing"
   ]
  },
  {
   "cell_type": "code",
   "execution_count": 1,
   "metadata": {
    "colab": {
     "base_uri": "https://localhost:8080/",
     "height": 451
    },
    "executionInfo": {
     "elapsed": 8622,
     "status": "ok",
     "timestamp": 1700100967182,
     "user": {
      "displayName": "Bryan StJohns",
      "userId": "11568675796848914042"
     },
     "user_tz": 300
    },
    "id": "a6_Y8eNACyPg",
    "outputId": "62803b2a-5dfa-4121-9fe7-47b5e5565bc9"
   },
   "outputs": [
    {
     "data": {
      "text/html": [
       "<div>\n",
       "<style scoped>\n",
       "    .dataframe tbody tr th:only-of-type {\n",
       "        vertical-align: middle;\n",
       "    }\n",
       "\n",
       "    .dataframe tbody tr th {\n",
       "        vertical-align: top;\n",
       "    }\n",
       "\n",
       "    .dataframe thead th {\n",
       "        text-align: right;\n",
       "    }\n",
       "</style>\n",
       "<table border=\"1\" class=\"dataframe\">\n",
       "  <thead>\n",
       "    <tr style=\"text-align: right;\">\n",
       "      <th></th>\n",
       "      <th>EIN</th>\n",
       "      <th>NAME</th>\n",
       "      <th>APPLICATION_TYPE</th>\n",
       "      <th>AFFILIATION</th>\n",
       "      <th>CLASSIFICATION</th>\n",
       "      <th>USE_CASE</th>\n",
       "      <th>ORGANIZATION</th>\n",
       "      <th>STATUS</th>\n",
       "      <th>INCOME_AMT</th>\n",
       "      <th>SPECIAL_CONSIDERATIONS</th>\n",
       "      <th>ASK_AMT</th>\n",
       "      <th>IS_SUCCESSFUL</th>\n",
       "    </tr>\n",
       "  </thead>\n",
       "  <tbody>\n",
       "    <tr>\n",
       "      <th>0</th>\n",
       "      <td>10520599</td>\n",
       "      <td>BLUE KNIGHTS MOTORCYCLE CLUB</td>\n",
       "      <td>T10</td>\n",
       "      <td>Independent</td>\n",
       "      <td>C1000</td>\n",
       "      <td>ProductDev</td>\n",
       "      <td>Association</td>\n",
       "      <td>1</td>\n",
       "      <td>0</td>\n",
       "      <td>N</td>\n",
       "      <td>5000</td>\n",
       "      <td>1</td>\n",
       "    </tr>\n",
       "    <tr>\n",
       "      <th>1</th>\n",
       "      <td>10531628</td>\n",
       "      <td>AMERICAN CHESAPEAKE CLUB CHARITABLE TR</td>\n",
       "      <td>T3</td>\n",
       "      <td>Independent</td>\n",
       "      <td>C2000</td>\n",
       "      <td>Preservation</td>\n",
       "      <td>Co-operative</td>\n",
       "      <td>1</td>\n",
       "      <td>1-9999</td>\n",
       "      <td>N</td>\n",
       "      <td>108590</td>\n",
       "      <td>1</td>\n",
       "    </tr>\n",
       "    <tr>\n",
       "      <th>2</th>\n",
       "      <td>10547893</td>\n",
       "      <td>ST CLOUD PROFESSIONAL FIREFIGHTERS</td>\n",
       "      <td>T5</td>\n",
       "      <td>CompanySponsored</td>\n",
       "      <td>C3000</td>\n",
       "      <td>ProductDev</td>\n",
       "      <td>Association</td>\n",
       "      <td>1</td>\n",
       "      <td>0</td>\n",
       "      <td>N</td>\n",
       "      <td>5000</td>\n",
       "      <td>0</td>\n",
       "    </tr>\n",
       "    <tr>\n",
       "      <th>3</th>\n",
       "      <td>10553066</td>\n",
       "      <td>SOUTHSIDE ATHLETIC ASSOCIATION</td>\n",
       "      <td>T3</td>\n",
       "      <td>CompanySponsored</td>\n",
       "      <td>C2000</td>\n",
       "      <td>Preservation</td>\n",
       "      <td>Trust</td>\n",
       "      <td>1</td>\n",
       "      <td>10000-24999</td>\n",
       "      <td>N</td>\n",
       "      <td>6692</td>\n",
       "      <td>1</td>\n",
       "    </tr>\n",
       "    <tr>\n",
       "      <th>4</th>\n",
       "      <td>10556103</td>\n",
       "      <td>GENETIC RESEARCH INSTITUTE OF THE DESERT</td>\n",
       "      <td>T3</td>\n",
       "      <td>Independent</td>\n",
       "      <td>C1000</td>\n",
       "      <td>Heathcare</td>\n",
       "      <td>Trust</td>\n",
       "      <td>1</td>\n",
       "      <td>100000-499999</td>\n",
       "      <td>N</td>\n",
       "      <td>142590</td>\n",
       "      <td>1</td>\n",
       "    </tr>\n",
       "  </tbody>\n",
       "</table>\n",
       "</div>"
      ],
      "text/plain": [
       "        EIN                                      NAME APPLICATION_TYPE  \\\n",
       "0  10520599              BLUE KNIGHTS MOTORCYCLE CLUB              T10   \n",
       "1  10531628    AMERICAN CHESAPEAKE CLUB CHARITABLE TR               T3   \n",
       "2  10547893        ST CLOUD PROFESSIONAL FIREFIGHTERS               T5   \n",
       "3  10553066            SOUTHSIDE ATHLETIC ASSOCIATION               T3   \n",
       "4  10556103  GENETIC RESEARCH INSTITUTE OF THE DESERT               T3   \n",
       "\n",
       "        AFFILIATION CLASSIFICATION      USE_CASE  ORGANIZATION  STATUS  \\\n",
       "0       Independent          C1000    ProductDev   Association       1   \n",
       "1       Independent          C2000  Preservation  Co-operative       1   \n",
       "2  CompanySponsored          C3000    ProductDev   Association       1   \n",
       "3  CompanySponsored          C2000  Preservation         Trust       1   \n",
       "4       Independent          C1000     Heathcare         Trust       1   \n",
       "\n",
       "      INCOME_AMT SPECIAL_CONSIDERATIONS  ASK_AMT  IS_SUCCESSFUL  \n",
       "0              0                      N     5000              1  \n",
       "1         1-9999                      N   108590              1  \n",
       "2              0                      N     5000              0  \n",
       "3    10000-24999                      N     6692              1  \n",
       "4  100000-499999                      N   142590              1  "
      ]
     },
     "execution_count": 1,
     "metadata": {},
     "output_type": "execute_result"
    }
   ],
   "source": [
    "# Import our dependencies\n",
    "from sklearn.model_selection import train_test_split\n",
    "from sklearn.preprocessing import StandardScaler\n",
    "from tensorflow.keras.callbacks import ModelCheckpoint\n",
    "import matplotlib.pyplot as plt\n",
    "import pandas as pd\n",
    "import tensorflow as tf\n",
    "\n",
    "#  Import and read the charity_data.csv.\n",
    "application_df = pd.read_csv(\n",
    "    \"https://static.bc-edx.com/data/dl-1-2/m21/lms/starter/charity_data.csv\"\n",
    ")\n",
    "application_df.head()"
   ]
  },
  {
   "cell_type": "code",
   "execution_count": 2,
   "metadata": {
    "executionInfo": {
     "elapsed": 4,
     "status": "ok",
     "timestamp": 1700100967182,
     "user": {
      "displayName": "Bryan StJohns",
      "userId": "11568675796848914042"
     },
     "user_tz": 300
    },
    "id": "Ckq6HUfQCyPi"
   },
   "outputs": [],
   "source": [
    "# Drop the non-beneficial ID columns, 'EIN'\n",
    "# First change from original model:\n",
    "# Keeping NAME boosts the accuracy above 75%\n",
    "application_df = application_df.drop([\"EIN\"], axis=1)"
   ]
  },
  {
   "cell_type": "code",
   "execution_count": 3,
   "metadata": {
    "colab": {
     "base_uri": "https://localhost:8080/"
    },
    "executionInfo": {
     "elapsed": 199,
     "status": "ok",
     "timestamp": 1700100967378,
     "user": {
      "displayName": "Bryan StJohns",
      "userId": "11568675796848914042"
     },
     "user_tz": 300
    },
    "id": "292wbb1ECyPi",
    "outputId": "dce3ab7d-04e6-435b-9569-17f00af89acc"
   },
   "outputs": [
    {
     "data": {
      "text/plain": [
       "NAME                      19568\n",
       "APPLICATION_TYPE             17\n",
       "AFFILIATION                   6\n",
       "CLASSIFICATION               71\n",
       "USE_CASE                      5\n",
       "ORGANIZATION                  4\n",
       "STATUS                        2\n",
       "INCOME_AMT                    9\n",
       "SPECIAL_CONSIDERATIONS        2\n",
       "ASK_AMT                    8747\n",
       "IS_SUCCESSFUL                 2\n",
       "dtype: int64"
      ]
     },
     "execution_count": 3,
     "metadata": {},
     "output_type": "execute_result"
    }
   ],
   "source": [
    "# Determine the number of unique values in each column.\n",
    "application_df.nunique()"
   ]
  },
  {
   "cell_type": "code",
   "execution_count": 4,
   "metadata": {
    "colab": {
     "base_uri": "https://localhost:8080/"
    },
    "executionInfo": {
     "elapsed": 5,
     "status": "ok",
     "timestamp": 1700100967378,
     "user": {
      "displayName": "Bryan StJohns",
      "userId": "11568675796848914042"
     },
     "user_tz": 300
    },
    "id": "QtQwwij3pPC1",
    "outputId": "7a780766-4031-40e5-83c6-7a9672be44e5"
   },
   "outputs": [
    {
     "data": {
      "text/plain": [
       "NAME\n",
       "PARENT BOOSTER USA INC                                                  1260\n",
       "TOPS CLUB INC                                                            765\n",
       "UNITED STATES BOWLING CONGRESS INC                                       700\n",
       "WASHINGTON STATE UNIVERSITY                                              492\n",
       "AMATEUR ATHLETIC UNION OF THE UNITED STATES INC                          408\n",
       "                                                                        ... \n",
       "ST LOUIS SLAM WOMENS FOOTBALL                                              1\n",
       "AIESEC ALUMNI IBEROAMERICA CORP                                            1\n",
       "WEALLBLEEDRED ORG INC                                                      1\n",
       "AMERICAN SOCIETY FOR STANDARDS IN MEDIUMSHIP & PSYCHICAL INVESTIGATI       1\n",
       "WATERHOUSE CHARITABLE TR                                                   1\n",
       "Name: count, Length: 19568, dtype: int64"
      ]
     },
     "execution_count": 4,
     "metadata": {},
     "output_type": "execute_result"
    }
   ],
   "source": [
    "# Look at NAME value counts for binning\n",
    "application_df.NAME.value_counts()"
   ]
  },
  {
   "cell_type": "code",
   "execution_count": 5,
   "metadata": {
    "colab": {
     "base_uri": "https://localhost:8080/"
    },
    "executionInfo": {
     "elapsed": 43790,
     "status": "ok",
     "timestamp": 1700101011165,
     "user": {
      "displayName": "Bryan StJohns",
      "userId": "11568675796848914042"
     },
     "user_tz": 300
    },
    "id": "iro7bDhEyF66",
    "outputId": "df589f37-38ab-4794-c697-d26aae8f5dc7"
   },
   "outputs": [
    {
     "data": {
      "text/plain": [
       "NAME\n",
       "Other                                           20043\n",
       "PARENT BOOSTER USA INC                           1260\n",
       "TOPS CLUB INC                                     765\n",
       "UNITED STATES BOWLING CONGRESS INC                700\n",
       "WASHINGTON STATE UNIVERSITY                       492\n",
       "                                                ...  \n",
       "HABITAT FOR HUMANITY INTERNATIONAL                  6\n",
       "DAMAGE PREVENTION COUNCIL OF TEXAS                  6\n",
       "FLEET RESERVE ASSOCIATION                           6\n",
       "HUGH OBRIAN YOUTH LEADERSHIP                        6\n",
       "INTERNATIONAL CONGRESS OF CHURCHES MINISTERS        6\n",
       "Name: count, Length: 355, dtype: int64"
      ]
     },
     "execution_count": 5,
     "metadata": {},
     "output_type": "execute_result"
    }
   ],
   "source": [
    "# Choose a cutoff value and create a list of names to be replaced\n",
    "# use the variable `names_to_replace`\n",
    "name_cutoff = 6\n",
    "name_counts = application_df.NAME.value_counts()\n",
    "names_to_replace = name_counts[name_counts < name_cutoff].index\n",
    "\n",
    "# Replace in dataframe\n",
    "for app in names_to_replace:\n",
    "    application_df[\"NAME\"] = application_df.NAME.replace(app, \"Other\")\n",
    "\n",
    "# Check to make sure binning was successful\n",
    "application_df[\"NAME\"].value_counts()"
   ]
  },
  {
   "cell_type": "code",
   "execution_count": 6,
   "metadata": {
    "colab": {
     "base_uri": "https://localhost:8080/"
    },
    "executionInfo": {
     "elapsed": 16,
     "status": "ok",
     "timestamp": 1700101011165,
     "user": {
      "displayName": "Bryan StJohns",
      "userId": "11568675796848914042"
     },
     "user_tz": 300
    },
    "id": "vjjHTbKkptbw",
    "outputId": "36f1212a-deb1-428a-cd03-12976491616b"
   },
   "outputs": [
    {
     "data": {
      "text/plain": [
       "APPLICATION_TYPE\n",
       "T3     27037\n",
       "T4      1542\n",
       "T6      1216\n",
       "T5      1173\n",
       "T19     1065\n",
       "T8       737\n",
       "T7       725\n",
       "T10      528\n",
       "T9       156\n",
       "T13       66\n",
       "T12       27\n",
       "T2        16\n",
       "T25        3\n",
       "T14        3\n",
       "T29        2\n",
       "T15        2\n",
       "T17        1\n",
       "Name: count, dtype: int64"
      ]
     },
     "execution_count": 6,
     "metadata": {},
     "output_type": "execute_result"
    }
   ],
   "source": [
    "# Look at APPLICATION_TYPE value counts for binning\n",
    "application_df.APPLICATION_TYPE.value_counts()"
   ]
  },
  {
   "cell_type": "code",
   "execution_count": 7,
   "metadata": {
    "colab": {
     "base_uri": "https://localhost:8080/"
    },
    "executionInfo": {
     "elapsed": 14,
     "status": "ok",
     "timestamp": 1700101011165,
     "user": {
      "displayName": "Bryan StJohns",
      "userId": "11568675796848914042"
     },
     "user_tz": 300
    },
    "id": "KMbElakeCyPj",
    "outputId": "c5e40bb5-ee20-4313-f84e-5b372bcfd2ec"
   },
   "outputs": [
    {
     "data": {
      "text/plain": [
       "APPLICATION_TYPE\n",
       "T3       27037\n",
       "T4        1542\n",
       "T6        1216\n",
       "T5        1173\n",
       "T19       1065\n",
       "T8         737\n",
       "T7         725\n",
       "T10        528\n",
       "Other      276\n",
       "Name: count, dtype: int64"
      ]
     },
     "execution_count": 7,
     "metadata": {},
     "output_type": "execute_result"
    }
   ],
   "source": [
    "# Choose a cutoff value and create a list of application types to be replaced\n",
    "# use the variable name `application_types_to_replace`\n",
    "cutoff = 500\n",
    "app_counts = application_df.APPLICATION_TYPE.value_counts()\n",
    "application_types_to_replace = app_counts[app_counts < cutoff].index\n",
    "\n",
    "# Replace in dataframe\n",
    "for app in application_types_to_replace:\n",
    "    application_df[\"APPLICATION_TYPE\"] = application_df[\"APPLICATION_TYPE\"].replace(\n",
    "        app, \"Other\"\n",
    "    )\n",
    "\n",
    "# Check to make sure binning was successful\n",
    "application_df[\"APPLICATION_TYPE\"].value_counts()"
   ]
  },
  {
   "cell_type": "code",
   "execution_count": 8,
   "metadata": {
    "colab": {
     "base_uri": "https://localhost:8080/"
    },
    "executionInfo": {
     "elapsed": 195,
     "status": "ok",
     "timestamp": 1700101011348,
     "user": {
      "displayName": "Bryan StJohns",
      "userId": "11568675796848914042"
     },
     "user_tz": 300
    },
    "id": "GN3RfBVeCyPj",
    "outputId": "fa64a7ef-c5e0-485f-cbeb-2855ba6af609"
   },
   "outputs": [
    {
     "data": {
      "text/plain": [
       "CLASSIFICATION\n",
       "C1000    17326\n",
       "C2000     6074\n",
       "C1200     4837\n",
       "C3000     1918\n",
       "C2100     1883\n",
       "         ...  \n",
       "C4120        1\n",
       "C8210        1\n",
       "C2561        1\n",
       "C4500        1\n",
       "C2150        1\n",
       "Name: count, Length: 71, dtype: int64"
      ]
     },
     "execution_count": 8,
     "metadata": {},
     "output_type": "execute_result"
    }
   ],
   "source": [
    "# Look at CLASSIFICATION value counts for binning\n",
    "application_df.CLASSIFICATION.value_counts()"
   ]
  },
  {
   "cell_type": "code",
   "execution_count": 9,
   "metadata": {
    "colab": {
     "base_uri": "https://localhost:8080/"
    },
    "executionInfo": {
     "elapsed": 6,
     "status": "ok",
     "timestamp": 1700101011348,
     "user": {
      "displayName": "Bryan StJohns",
      "userId": "11568675796848914042"
     },
     "user_tz": 300
    },
    "id": "oxCb3xrtCyPk",
    "outputId": "6e6edfc5-ea90-42ba-f5b1-2bcd25d215bd"
   },
   "outputs": [
    {
     "data": {
      "text/plain": [
       "CLASSIFICATION\n",
       "C1000    17326\n",
       "C2000     6074\n",
       "C1200     4837\n",
       "C3000     1918\n",
       "C2100     1883\n",
       "C7000      777\n",
       "C1700      287\n",
       "C4000      194\n",
       "C5000      116\n",
       "C1270      114\n",
       "C2700      104\n",
       "C2800       95\n",
       "C7100       75\n",
       "C1300       58\n",
       "C1280       50\n",
       "C1230       36\n",
       "C1400       34\n",
       "C7200       32\n",
       "C2300       32\n",
       "C1240       30\n",
       "C8000       20\n",
       "C7120       18\n",
       "C1500       16\n",
       "C1800       15\n",
       "C6000       15\n",
       "C1250       14\n",
       "C8200       11\n",
       "C1238       10\n",
       "C1278       10\n",
       "C1235        9\n",
       "C1237        9\n",
       "C7210        7\n",
       "C2400        6\n",
       "C1720        6\n",
       "C4100        6\n",
       "C1257        5\n",
       "C1600        5\n",
       "C1260        3\n",
       "C2710        3\n",
       "C0           3\n",
       "C3200        2\n",
       "C1234        2\n",
       "C1246        2\n",
       "C1267        2\n",
       "C1256        2\n",
       "Name: count, dtype: int64"
      ]
     },
     "execution_count": 9,
     "metadata": {},
     "output_type": "execute_result"
    }
   ],
   "source": [
    "# You may find it helpful to look at CLASSIFICATION value counts >1\n",
    "application_df.CLASSIFICATION.value_counts()[\n",
    "    application_df.CLASSIFICATION.value_counts() > 1\n",
    "]"
   ]
  },
  {
   "cell_type": "code",
   "execution_count": 10,
   "metadata": {
    "colab": {
     "base_uri": "https://localhost:8080/"
    },
    "executionInfo": {
     "elapsed": 95,
     "status": "ok",
     "timestamp": 1700101011439,
     "user": {
      "displayName": "Bryan StJohns",
      "userId": "11568675796848914042"
     },
     "user_tz": 300
    },
    "id": "WvcBziOLCyPk",
    "outputId": "ae32d6fd-3b0c-4524-f070-bd2226f511ab"
   },
   "outputs": [
    {
     "data": {
      "text/plain": [
       "CLASSIFICATION\n",
       "C1000    17326\n",
       "C2000     6074\n",
       "C1200     4837\n",
       "C3000     1918\n",
       "C2100     1883\n",
       "Other     1484\n",
       "C7000      777\n",
       "Name: count, dtype: int64"
      ]
     },
     "execution_count": 10,
     "metadata": {},
     "output_type": "execute_result"
    }
   ],
   "source": [
    "# Choose a cutoff value and create a list of classifications to be replaced\n",
    "# use the variable name `classifications_to_replace`\n",
    "# Second change from original model:\n",
    "# Lowered the classification cutoff for this model\n",
    "cls_cutoff = 500\n",
    "cls_counts = application_df.CLASSIFICATION.value_counts()\n",
    "classifications_to_replace = cls_counts[cls_counts < cls_cutoff].index\n",
    "\n",
    "# Replace in dataframe\n",
    "for cls in classifications_to_replace:\n",
    "    application_df[\"CLASSIFICATION\"] = application_df[\"CLASSIFICATION\"].replace(\n",
    "        cls, \"Other\"\n",
    "    )\n",
    "\n",
    "# Check to make sure binning was successful\n",
    "application_df[\"CLASSIFICATION\"].value_counts()"
   ]
  },
  {
   "cell_type": "code",
   "execution_count": 11,
   "metadata": {
    "colab": {
     "base_uri": "https://localhost:8080/",
     "height": 342
    },
    "executionInfo": {
     "elapsed": 132,
     "status": "ok",
     "timestamp": 1700101011692,
     "user": {
      "displayName": "Bryan StJohns",
      "userId": "11568675796848914042"
     },
     "user_tz": 300
    },
    "id": "PBPT35VSCyPl",
    "outputId": "1fdbb5c7-3686-4a67-9b64-f141e2bb0520"
   },
   "outputs": [
    {
     "data": {
      "text/html": [
       "<div>\n",
       "<style scoped>\n",
       "    .dataframe tbody tr th:only-of-type {\n",
       "        vertical-align: middle;\n",
       "    }\n",
       "\n",
       "    .dataframe tbody tr th {\n",
       "        vertical-align: top;\n",
       "    }\n",
       "\n",
       "    .dataframe thead th {\n",
       "        text-align: right;\n",
       "    }\n",
       "</style>\n",
       "<table border=\"1\" class=\"dataframe\">\n",
       "  <thead>\n",
       "    <tr style=\"text-align: right;\">\n",
       "      <th></th>\n",
       "      <th>STATUS</th>\n",
       "      <th>ASK_AMT</th>\n",
       "      <th>IS_SUCCESSFUL</th>\n",
       "      <th>NAME_AACE INTERNATIONAL</th>\n",
       "      <th>NAME_ACE MENTOR PROGRAM OF AMERICA INC</th>\n",
       "      <th>NAME_AFRICAN-AMERICAN POSTAL LEAGUE UNITED FOR SUCCESS A-PLUS</th>\n",
       "      <th>NAME_AIR FORCE ASSOCIATION</th>\n",
       "      <th>NAME_ALABAMA FEDERATION OF WOMENS CLUBS</th>\n",
       "      <th>NAME_ALABAMA TREASURE FOREST ASSOCIATION</th>\n",
       "      <th>NAME_ALBANY STATE UNIVERSITY NATIONAL ALUMNI ASSOCIATION</th>\n",
       "      <th>...</th>\n",
       "      <th>INCOME_AMT_1-9999</th>\n",
       "      <th>INCOME_AMT_10000-24999</th>\n",
       "      <th>INCOME_AMT_100000-499999</th>\n",
       "      <th>INCOME_AMT_10M-50M</th>\n",
       "      <th>INCOME_AMT_1M-5M</th>\n",
       "      <th>INCOME_AMT_25000-99999</th>\n",
       "      <th>INCOME_AMT_50M+</th>\n",
       "      <th>INCOME_AMT_5M-10M</th>\n",
       "      <th>SPECIAL_CONSIDERATIONS_N</th>\n",
       "      <th>SPECIAL_CONSIDERATIONS_Y</th>\n",
       "    </tr>\n",
       "  </thead>\n",
       "  <tbody>\n",
       "    <tr>\n",
       "      <th>0</th>\n",
       "      <td>1</td>\n",
       "      <td>5000</td>\n",
       "      <td>1</td>\n",
       "      <td>False</td>\n",
       "      <td>False</td>\n",
       "      <td>False</td>\n",
       "      <td>False</td>\n",
       "      <td>False</td>\n",
       "      <td>False</td>\n",
       "      <td>False</td>\n",
       "      <td>...</td>\n",
       "      <td>False</td>\n",
       "      <td>False</td>\n",
       "      <td>False</td>\n",
       "      <td>False</td>\n",
       "      <td>False</td>\n",
       "      <td>False</td>\n",
       "      <td>False</td>\n",
       "      <td>False</td>\n",
       "      <td>True</td>\n",
       "      <td>False</td>\n",
       "    </tr>\n",
       "    <tr>\n",
       "      <th>1</th>\n",
       "      <td>1</td>\n",
       "      <td>108590</td>\n",
       "      <td>1</td>\n",
       "      <td>False</td>\n",
       "      <td>False</td>\n",
       "      <td>False</td>\n",
       "      <td>False</td>\n",
       "      <td>False</td>\n",
       "      <td>False</td>\n",
       "      <td>False</td>\n",
       "      <td>...</td>\n",
       "      <td>True</td>\n",
       "      <td>False</td>\n",
       "      <td>False</td>\n",
       "      <td>False</td>\n",
       "      <td>False</td>\n",
       "      <td>False</td>\n",
       "      <td>False</td>\n",
       "      <td>False</td>\n",
       "      <td>True</td>\n",
       "      <td>False</td>\n",
       "    </tr>\n",
       "    <tr>\n",
       "      <th>2</th>\n",
       "      <td>1</td>\n",
       "      <td>5000</td>\n",
       "      <td>0</td>\n",
       "      <td>False</td>\n",
       "      <td>False</td>\n",
       "      <td>False</td>\n",
       "      <td>False</td>\n",
       "      <td>False</td>\n",
       "      <td>False</td>\n",
       "      <td>False</td>\n",
       "      <td>...</td>\n",
       "      <td>False</td>\n",
       "      <td>False</td>\n",
       "      <td>False</td>\n",
       "      <td>False</td>\n",
       "      <td>False</td>\n",
       "      <td>False</td>\n",
       "      <td>False</td>\n",
       "      <td>False</td>\n",
       "      <td>True</td>\n",
       "      <td>False</td>\n",
       "    </tr>\n",
       "    <tr>\n",
       "      <th>3</th>\n",
       "      <td>1</td>\n",
       "      <td>6692</td>\n",
       "      <td>1</td>\n",
       "      <td>False</td>\n",
       "      <td>False</td>\n",
       "      <td>False</td>\n",
       "      <td>False</td>\n",
       "      <td>False</td>\n",
       "      <td>False</td>\n",
       "      <td>False</td>\n",
       "      <td>...</td>\n",
       "      <td>False</td>\n",
       "      <td>True</td>\n",
       "      <td>False</td>\n",
       "      <td>False</td>\n",
       "      <td>False</td>\n",
       "      <td>False</td>\n",
       "      <td>False</td>\n",
       "      <td>False</td>\n",
       "      <td>True</td>\n",
       "      <td>False</td>\n",
       "    </tr>\n",
       "    <tr>\n",
       "      <th>4</th>\n",
       "      <td>1</td>\n",
       "      <td>142590</td>\n",
       "      <td>1</td>\n",
       "      <td>False</td>\n",
       "      <td>False</td>\n",
       "      <td>False</td>\n",
       "      <td>False</td>\n",
       "      <td>False</td>\n",
       "      <td>False</td>\n",
       "      <td>False</td>\n",
       "      <td>...</td>\n",
       "      <td>False</td>\n",
       "      <td>False</td>\n",
       "      <td>True</td>\n",
       "      <td>False</td>\n",
       "      <td>False</td>\n",
       "      <td>False</td>\n",
       "      <td>False</td>\n",
       "      <td>False</td>\n",
       "      <td>True</td>\n",
       "      <td>False</td>\n",
       "    </tr>\n",
       "  </tbody>\n",
       "</table>\n",
       "<p>5 rows × 400 columns</p>\n",
       "</div>"
      ],
      "text/plain": [
       "   STATUS  ASK_AMT  IS_SUCCESSFUL  NAME_AACE INTERNATIONAL  \\\n",
       "0       1     5000              1                    False   \n",
       "1       1   108590              1                    False   \n",
       "2       1     5000              0                    False   \n",
       "3       1     6692              1                    False   \n",
       "4       1   142590              1                    False   \n",
       "\n",
       "   NAME_ACE MENTOR PROGRAM OF AMERICA INC  \\\n",
       "0                                   False   \n",
       "1                                   False   \n",
       "2                                   False   \n",
       "3                                   False   \n",
       "4                                   False   \n",
       "\n",
       "   NAME_AFRICAN-AMERICAN POSTAL LEAGUE UNITED FOR SUCCESS A-PLUS  \\\n",
       "0                                              False               \n",
       "1                                              False               \n",
       "2                                              False               \n",
       "3                                              False               \n",
       "4                                              False               \n",
       "\n",
       "   NAME_AIR FORCE ASSOCIATION  NAME_ALABAMA FEDERATION OF WOMENS CLUBS  \\\n",
       "0                       False                                    False   \n",
       "1                       False                                    False   \n",
       "2                       False                                    False   \n",
       "3                       False                                    False   \n",
       "4                       False                                    False   \n",
       "\n",
       "   NAME_ALABAMA TREASURE FOREST ASSOCIATION  \\\n",
       "0                                     False   \n",
       "1                                     False   \n",
       "2                                     False   \n",
       "3                                     False   \n",
       "4                                     False   \n",
       "\n",
       "   NAME_ALBANY STATE UNIVERSITY NATIONAL ALUMNI ASSOCIATION  ...  \\\n",
       "0                                              False         ...   \n",
       "1                                              False         ...   \n",
       "2                                              False         ...   \n",
       "3                                              False         ...   \n",
       "4                                              False         ...   \n",
       "\n",
       "   INCOME_AMT_1-9999  INCOME_AMT_10000-24999  INCOME_AMT_100000-499999  \\\n",
       "0              False                   False                     False   \n",
       "1               True                   False                     False   \n",
       "2              False                   False                     False   \n",
       "3              False                    True                     False   \n",
       "4              False                   False                      True   \n",
       "\n",
       "   INCOME_AMT_10M-50M  INCOME_AMT_1M-5M  INCOME_AMT_25000-99999  \\\n",
       "0               False             False                   False   \n",
       "1               False             False                   False   \n",
       "2               False             False                   False   \n",
       "3               False             False                   False   \n",
       "4               False             False                   False   \n",
       "\n",
       "   INCOME_AMT_50M+  INCOME_AMT_5M-10M  SPECIAL_CONSIDERATIONS_N  \\\n",
       "0            False              False                      True   \n",
       "1            False              False                      True   \n",
       "2            False              False                      True   \n",
       "3            False              False                      True   \n",
       "4            False              False                      True   \n",
       "\n",
       "   SPECIAL_CONSIDERATIONS_Y  \n",
       "0                     False  \n",
       "1                     False  \n",
       "2                     False  \n",
       "3                     False  \n",
       "4                     False  \n",
       "\n",
       "[5 rows x 400 columns]"
      ]
     },
     "execution_count": 11,
     "metadata": {},
     "output_type": "execute_result"
    }
   ],
   "source": [
    "# Convert categorical data to numeric with `pd.get_dummies`\n",
    "dummies = pd.get_dummies(application_df)\n",
    "dummies.head()"
   ]
  },
  {
   "cell_type": "code",
   "execution_count": 12,
   "metadata": {
    "executionInfo": {
     "elapsed": 388,
     "status": "ok",
     "timestamp": 1700101012073,
     "user": {
      "displayName": "Bryan StJohns",
      "userId": "11568675796848914042"
     },
     "user_tz": 300
    },
    "id": "sEZamnUvCyPl"
   },
   "outputs": [],
   "source": [
    "# Split our preprocessed data into our features and target arrays\n",
    "y = dummies.IS_SUCCESSFUL.values\n",
    "X = dummies.drop(columns=\"IS_SUCCESSFUL\").values\n",
    "\n",
    "# Split the preprocessed data into a training and testing dataset\n",
    "X_train, X_test, y_train, y_test = train_test_split(X, y)"
   ]
  },
  {
   "cell_type": "code",
   "execution_count": 13,
   "metadata": {
    "executionInfo": {
     "elapsed": 270,
     "status": "ok",
     "timestamp": 1700101012341,
     "user": {
      "displayName": "Bryan StJohns",
      "userId": "11568675796848914042"
     },
     "user_tz": 300
    },
    "id": "xnaQBMFwCyPl"
   },
   "outputs": [],
   "source": [
    "# Create a StandardScaler instances\n",
    "scaler = StandardScaler()\n",
    "\n",
    "# Fit the StandardScaler\n",
    "X_scaler = scaler.fit(X_train)\n",
    "\n",
    "# Scale the data\n",
    "X_train_scaled = X_scaler.transform(X_train)\n",
    "X_test_scaled = X_scaler.transform(X_test)"
   ]
  },
  {
   "cell_type": "markdown",
   "metadata": {
    "id": "CQjPQ9DSCyPl"
   },
   "source": [
    "## Compile, Train and Evaluate the Model"
   ]
  },
  {
   "cell_type": "code",
   "execution_count": 14,
   "metadata": {
    "colab": {
     "base_uri": "https://localhost:8080/"
    },
    "executionInfo": {
     "elapsed": 246,
     "status": "ok",
     "timestamp": 1700101012584,
     "user": {
      "displayName": "Bryan StJohns",
      "userId": "11568675796848914042"
     },
     "user_tz": 300
    },
    "id": "71ZRMYQ-CyPm",
    "outputId": "70a696fc-4722-4487-a439-f61b8b42b3af"
   },
   "outputs": [
    {
     "name": "stdout",
     "output_type": "stream",
     "text": [
      "Model: \"sequential\"\n",
      "_________________________________________________________________\n",
      " Layer (type)                Output Shape              Param #   \n",
      "=================================================================\n",
      " dense (Dense)               (None, 80)                32000     \n",
      "                                                                 \n",
      " dense_1 (Dense)             (None, 30)                2430      \n",
      "                                                                 \n",
      " dense_2 (Dense)             (None, 1)                 31        \n",
      "                                                                 \n",
      "=================================================================\n",
      "Total params: 34461 (134.61 KB)\n",
      "Trainable params: 34461 (134.61 KB)\n",
      "Non-trainable params: 0 (0.00 Byte)\n",
      "_________________________________________________________________\n"
     ]
    }
   ],
   "source": [
    "# Define the model - deep neural net, i.e., the number of input features and hidden nodes for each layer.\n",
    "number_input_features = len(X_train[0])\n",
    "hidden_nodes_layer1 = 80\n",
    "hidden_nodes_layer2 = 30\n",
    "\n",
    "nn = tf.keras.models.Sequential()\n",
    "\n",
    "# First hidden layer\n",
    "nn.add(\n",
    "    tf.keras.layers.Dense(\n",
    "        units=hidden_nodes_layer1, input_dim=number_input_features, activation=\"relu\"\n",
    "    )\n",
    ")\n",
    "\n",
    "# Second hidden layer\n",
    "nn.add(tf.keras.layers.Dense(units=hidden_nodes_layer2, activation=\"relu\"))\n",
    "\n",
    "# Output layer\n",
    "nn.add(tf.keras.layers.Dense(units=1, activation=\"sigmoid\"))\n",
    "\n",
    "# Check the structure of the model\n",
    "nn.summary()"
   ]
  },
  {
   "cell_type": "code",
   "execution_count": 15,
   "metadata": {
    "executionInfo": {
     "elapsed": 7,
     "status": "ok",
     "timestamp": 1700101012584,
     "user": {
      "displayName": "Bryan StJohns",
      "userId": "11568675796848914042"
     },
     "user_tz": 300
    },
    "id": "j3tMxAx3CyPm"
   },
   "outputs": [],
   "source": [
    "# Compile the model\n",
    "nn.compile(loss=\"binary_crossentropy\", optimizer=\"adam\", metrics=[\"accuracy\"])"
   ]
  },
  {
   "cell_type": "code",
   "execution_count": 16,
   "metadata": {
    "colab": {
     "base_uri": "https://localhost:8080/"
    },
    "executionInfo": {
     "elapsed": 145235,
     "status": "ok",
     "timestamp": 1700101157813,
     "user": {
      "displayName": "Bryan StJohns",
      "userId": "11568675796848914042"
     },
     "user_tz": 300
    },
    "id": "URpXwoE3NwpB",
    "outputId": "444dc552-49c6-472c-897c-45eb6027cb8e"
   },
   "outputs": [
    {
     "name": "stdout",
     "output_type": "stream",
     "text": [
      "WARNING:tensorflow:`period` argument is deprecated. Please use `save_freq` to specify the frequency in number of batches seen.\n",
      "Epoch 1/50\n",
      "804/804 [==============================] - 2s 2ms/step - loss: 0.4738 - accuracy: 0.7772 - val_loss: 0.4387 - val_accuracy: 0.7897\n",
      "Epoch 2/50\n",
      "804/804 [==============================] - 1s 2ms/step - loss: 0.4351 - accuracy: 0.7914 - val_loss: 0.4353 - val_accuracy: 0.7929\n",
      "Epoch 3/50\n",
      "804/804 [==============================] - 1s 2ms/step - loss: 0.4305 - accuracy: 0.7949 - val_loss: 0.4337 - val_accuracy: 0.7939\n",
      "Epoch 4/50\n",
      "804/804 [==============================] - 2s 2ms/step - loss: 0.4276 - accuracy: 0.7947 - val_loss: 0.4346 - val_accuracy: 0.7888\n",
      "Epoch 5/50\n",
      "774/804 [===========================>..] - ETA: 0s - loss: 0.4255 - accuracy: 0.7962\n",
      "Epoch 5: saving model to ./checkpoints\\weights_optimized.05.hdf5\n",
      "804/804 [==============================] - 2s 2ms/step - loss: 0.4259 - accuracy: 0.7962 - val_loss: 0.4340 - val_accuracy: 0.7904\n",
      "Epoch 6/50\n",
      "804/804 [==============================] - 2s 2ms/step - loss: 0.4243 - accuracy: 0.7975 - val_loss: 0.4353 - val_accuracy: 0.7899\n",
      "Epoch 7/50\n",
      "804/804 [==============================] - 1s 2ms/step - loss: 0.4232 - accuracy: 0.7973 - val_loss: 0.4334 - val_accuracy: 0.7909\n",
      "Epoch 8/50\n",
      "804/804 [==============================] - 2s 2ms/step - loss: 0.4227 - accuracy: 0.7986 - val_loss: 0.4346 - val_accuracy: 0.7929\n",
      "Epoch 9/50\n",
      "804/804 [==============================] - 2s 3ms/step - loss: 0.4205 - accuracy: 0.8001 - val_loss: 0.4353 - val_accuracy: 0.7929\n",
      "Epoch 10/50\n",
      "803/804 [============================>.] - ETA: 0s - loss: 0.4198 - accuracy: 0.7984\n",
      "Epoch 10: saving model to ./checkpoints\\weights_optimized.10.hdf5\n",
      "804/804 [==============================] - 2s 2ms/step - loss: 0.4199 - accuracy: 0.7984 - val_loss: 0.4357 - val_accuracy: 0.7925\n",
      "Epoch 11/50\n",
      "804/804 [==============================] - 2s 2ms/step - loss: 0.4194 - accuracy: 0.8008 - val_loss: 0.4367 - val_accuracy: 0.7899\n",
      "Epoch 12/50\n",
      "804/804 [==============================] - 2s 2ms/step - loss: 0.4191 - accuracy: 0.8009 - val_loss: 0.4372 - val_accuracy: 0.7889\n",
      "Epoch 13/50\n",
      "804/804 [==============================] - 2s 2ms/step - loss: 0.4187 - accuracy: 0.8008 - val_loss: 0.4367 - val_accuracy: 0.7908\n",
      "Epoch 14/50\n",
      "804/804 [==============================] - 2s 2ms/step - loss: 0.4174 - accuracy: 0.8019 - val_loss: 0.4420 - val_accuracy: 0.7893\n",
      "Epoch 15/50\n",
      "776/804 [===========================>..] - ETA: 0s - loss: 0.4181 - accuracy: 0.8019\n",
      "Epoch 15: saving model to ./checkpoints\\weights_optimized.15.hdf5\n",
      "804/804 [==============================] - 2s 2ms/step - loss: 0.4173 - accuracy: 0.8023 - val_loss: 0.4387 - val_accuracy: 0.7906\n",
      "Epoch 16/50\n",
      "804/804 [==============================] - 2s 2ms/step - loss: 0.4164 - accuracy: 0.8014 - val_loss: 0.4398 - val_accuracy: 0.7894\n",
      "Epoch 17/50\n",
      "804/804 [==============================] - 1s 2ms/step - loss: 0.4156 - accuracy: 0.8026 - val_loss: 0.4412 - val_accuracy: 0.7915\n",
      "Epoch 18/50\n",
      "804/804 [==============================] - 2s 2ms/step - loss: 0.4153 - accuracy: 0.8031 - val_loss: 0.4388 - val_accuracy: 0.7897\n",
      "Epoch 19/50\n",
      "804/804 [==============================] - 1s 2ms/step - loss: 0.4148 - accuracy: 0.8017 - val_loss: 0.4444 - val_accuracy: 0.7894\n",
      "Epoch 20/50\n",
      "789/804 [============================>.] - ETA: 0s - loss: 0.4142 - accuracy: 0.8017\n",
      "Epoch 20: saving model to ./checkpoints\\weights_optimized.20.hdf5\n",
      "804/804 [==============================] - 2s 2ms/step - loss: 0.4143 - accuracy: 0.8019 - val_loss: 0.4408 - val_accuracy: 0.7899\n",
      "Epoch 21/50\n",
      "804/804 [==============================] - 2s 2ms/step - loss: 0.4140 - accuracy: 0.8038 - val_loss: 0.4392 - val_accuracy: 0.7899\n",
      "Epoch 22/50\n",
      "804/804 [==============================] - 2s 2ms/step - loss: 0.4135 - accuracy: 0.8035 - val_loss: 0.4422 - val_accuracy: 0.7893\n",
      "Epoch 23/50\n",
      "804/804 [==============================] - 2s 2ms/step - loss: 0.4128 - accuracy: 0.8045 - val_loss: 0.4428 - val_accuracy: 0.7894\n",
      "Epoch 24/50\n",
      "804/804 [==============================] - 2s 2ms/step - loss: 0.4125 - accuracy: 0.8041 - val_loss: 0.4477 - val_accuracy: 0.7894\n",
      "Epoch 25/50\n",
      "796/804 [============================>.] - ETA: 0s - loss: 0.4121 - accuracy: 0.8045\n",
      "Epoch 25: saving model to ./checkpoints\\weights_optimized.25.hdf5\n",
      "804/804 [==============================] - 2s 2ms/step - loss: 0.4121 - accuracy: 0.8043 - val_loss: 0.4418 - val_accuracy: 0.7894\n",
      "Epoch 26/50\n",
      "804/804 [==============================] - 2s 2ms/step - loss: 0.4117 - accuracy: 0.8042 - val_loss: 0.4438 - val_accuracy: 0.7911\n",
      "Epoch 27/50\n",
      "804/804 [==============================] - 2s 2ms/step - loss: 0.4118 - accuracy: 0.8042 - val_loss: 0.4409 - val_accuracy: 0.7904\n",
      "Epoch 28/50\n",
      "804/804 [==============================] - 2s 2ms/step - loss: 0.4109 - accuracy: 0.8041 - val_loss: 0.4439 - val_accuracy: 0.7889\n",
      "Epoch 29/50\n",
      "804/804 [==============================] - 2s 2ms/step - loss: 0.4103 - accuracy: 0.8055 - val_loss: 0.4435 - val_accuracy: 0.7899\n",
      "Epoch 30/50\n",
      "779/804 [============================>.] - ETA: 0s - loss: 0.4114 - accuracy: 0.8038\n",
      "Epoch 30: saving model to ./checkpoints\\weights_optimized.30.hdf5\n",
      "804/804 [==============================] - 2s 2ms/step - loss: 0.4106 - accuracy: 0.8045 - val_loss: 0.4491 - val_accuracy: 0.7908\n",
      "Epoch 31/50\n",
      "804/804 [==============================] - 2s 2ms/step - loss: 0.4105 - accuracy: 0.8045 - val_loss: 0.4443 - val_accuracy: 0.7890\n",
      "Epoch 32/50\n",
      "804/804 [==============================] - 2s 2ms/step - loss: 0.4102 - accuracy: 0.8056 - val_loss: 0.4452 - val_accuracy: 0.7909\n",
      "Epoch 33/50\n",
      "804/804 [==============================] - 2s 2ms/step - loss: 0.4098 - accuracy: 0.8045 - val_loss: 0.4471 - val_accuracy: 0.7903\n",
      "Epoch 34/50\n",
      "804/804 [==============================] - 2s 2ms/step - loss: 0.4094 - accuracy: 0.8046 - val_loss: 0.4443 - val_accuracy: 0.7894\n",
      "Epoch 35/50\n",
      "797/804 [============================>.] - ETA: 0s - loss: 0.4091 - accuracy: 0.8056\n",
      "Epoch 35: saving model to ./checkpoints\\weights_optimized.35.hdf5\n",
      "804/804 [==============================] - 2s 2ms/step - loss: 0.4089 - accuracy: 0.8059 - val_loss: 0.4483 - val_accuracy: 0.7910\n",
      "Epoch 36/50\n",
      "804/804 [==============================] - 2s 2ms/step - loss: 0.4085 - accuracy: 0.8053 - val_loss: 0.4496 - val_accuracy: 0.7908\n",
      "Epoch 37/50\n",
      "804/804 [==============================] - 2s 2ms/step - loss: 0.4087 - accuracy: 0.8057 - val_loss: 0.4450 - val_accuracy: 0.7897\n",
      "Epoch 38/50\n",
      "804/804 [==============================] - 2s 2ms/step - loss: 0.4082 - accuracy: 0.8050 - val_loss: 0.4478 - val_accuracy: 0.7906\n",
      "Epoch 39/50\n",
      "804/804 [==============================] - 2s 2ms/step - loss: 0.4080 - accuracy: 0.8062 - val_loss: 0.4498 - val_accuracy: 0.7921\n",
      "Epoch 40/50\n",
      "783/804 [============================>.] - ETA: 0s - loss: 0.4083 - accuracy: 0.8050\n",
      "Epoch 40: saving model to ./checkpoints\\weights_optimized.40.hdf5\n",
      "804/804 [==============================] - 2s 2ms/step - loss: 0.4081 - accuracy: 0.8050 - val_loss: 0.4484 - val_accuracy: 0.7888\n",
      "Epoch 41/50\n",
      "804/804 [==============================] - 2s 2ms/step - loss: 0.4075 - accuracy: 0.8054 - val_loss: 0.4482 - val_accuracy: 0.7906\n",
      "Epoch 42/50\n",
      "804/804 [==============================] - 2s 2ms/step - loss: 0.4079 - accuracy: 0.8056 - val_loss: 0.4489 - val_accuracy: 0.7910\n",
      "Epoch 43/50\n",
      "804/804 [==============================] - 2s 2ms/step - loss: 0.4075 - accuracy: 0.8055 - val_loss: 0.4497 - val_accuracy: 0.7892\n",
      "Epoch 44/50\n",
      "804/804 [==============================] - 2s 2ms/step - loss: 0.4071 - accuracy: 0.8056 - val_loss: 0.4474 - val_accuracy: 0.7910\n",
      "Epoch 45/50\n",
      "781/804 [============================>.] - ETA: 0s - loss: 0.4064 - accuracy: 0.8064\n",
      "Epoch 45: saving model to ./checkpoints\\weights_optimized.45.hdf5\n",
      "804/804 [==============================] - 2s 2ms/step - loss: 0.4067 - accuracy: 0.8063 - val_loss: 0.4514 - val_accuracy: 0.7909\n",
      "Epoch 46/50\n",
      "804/804 [==============================] - 2s 2ms/step - loss: 0.4067 - accuracy: 0.8066 - val_loss: 0.4494 - val_accuracy: 0.7896\n",
      "Epoch 47/50\n",
      "804/804 [==============================] - 2s 2ms/step - loss: 0.4063 - accuracy: 0.8056 - val_loss: 0.4525 - val_accuracy: 0.7917\n",
      "Epoch 48/50\n",
      "804/804 [==============================] - 1s 2ms/step - loss: 0.4063 - accuracy: 0.8068 - val_loss: 0.4476 - val_accuracy: 0.7902\n",
      "Epoch 49/50\n",
      "804/804 [==============================] - 2s 2ms/step - loss: 0.4061 - accuracy: 0.8065 - val_loss: 0.4493 - val_accuracy: 0.7906\n",
      "Epoch 50/50\n",
      "801/804 [============================>.] - ETA: 0s - loss: 0.4057 - accuracy: 0.8058\n",
      "Epoch 50: saving model to ./checkpoints\\weights_optimized.50.hdf5\n",
      "804/804 [==============================] - 2s 2ms/step - loss: 0.4056 - accuracy: 0.8059 - val_loss: 0.4535 - val_accuracy: 0.7900\n"
     ]
    }
   ],
   "source": [
    "# Create a callback that saves the model's weights every 5 epochs:\n",
    "# Define the checkpoint path and filenames\n",
    "checkpoint_path = \"./checkpoints/weights_optimized.{epoch:02d}.hdf5\"\n",
    "# callback func saves weight every 5 epochs\n",
    "cp_callback = ModelCheckpoint(\n",
    "    filepath=checkpoint_path,\n",
    "    verbose=5,\n",
    "    save_weights_only=True,\n",
    "    save_freq=\"epoch\",\n",
    "    period=5,\n",
    ")\n",
    "\n",
    "# Pass callback to `fit`\n",
    "# Train the model\n",
    "# Third change from original model:\n",
    "# Fewer epochs improves loss\n",
    "fit_model = nn.fit(\n",
    "    X_train_scaled,\n",
    "    y_train,\n",
    "    epochs=50,\n",
    "    validation_data=(X_test_scaled, y_test),\n",
    "    callbacks=[cp_callback],\n",
    ")"
   ]
  },
  {
   "cell_type": "code",
   "execution_count": 17,
   "metadata": {
    "colab": {
     "base_uri": "https://localhost:8080/",
     "height": 472
    },
    "executionInfo": {
     "elapsed": 397,
     "status": "ok",
     "timestamp": 1700101158195,
     "user": {
      "displayName": "Bryan StJohns",
      "userId": "11568675796848914042"
     },
     "user_tz": 300
    },
    "id": "u8coJzeKzrvo",
    "outputId": "2db3f618-ea93-499c-85d5-488a4b71e79c"
   },
   "outputs": [
    {
     "data": {
      "image/png": "[encoded data removed]",
      "text/plain": [
       "<Figure size 640x480 with 1 Axes>"
      ]
     },
     "metadata": {},
     "output_type": "display_data"
    }
   ],
   "source": [
    "# Create df containing training history\n",
    "history_df = pd.DataFrame(fit_model.history)\n",
    "\n",
    "# Increase index by 1 to match number of epochs\n",
    "history_df.index += 1\n",
    "\n",
    "# Plot the loss\n",
    "plt.plot(history_df[\"loss\"])\n",
    "plt.title(\"Training Loss (Optimized)\")\n",
    "plt.xlabel(\"Epoch\")\n",
    "plt.ylabel(\"Loss\")\n",
    "\n",
    "# Save the figure to the \"images\" subfolder\n",
    "plt.savefig(\"./images/optimized_loss.png\")\n",
    "\n",
    "# Display the plot (optional)\n",
    "plt.show()"
   ]
  },
  {
   "cell_type": "code",
   "execution_count": 18,
   "metadata": {
    "colab": {
     "base_uri": "https://localhost:8080/",
     "height": 472
    },
    "executionInfo": {
     "elapsed": 540,
     "status": "ok",
     "timestamp": 1700101158732,
     "user": {
      "displayName": "Bryan StJohns",
      "userId": "11568675796848914042"
     },
     "user_tz": 300
    },
    "id": "zOuomPdwzypV",
    "outputId": "5ea0f745-5b9a-42ac-832c-c7b97c948a5a"
   },
   "outputs": [
    {
     "data": {
      "image/png": "[encoded data removed]",
      "text/plain": [
       "<Figure size 640x480 with 1 Axes>"
      ]
     },
     "metadata": {},
     "output_type": "display_data"
    }
   ],
   "source": [
    "# Plot the accuracy\n",
    "plt.plot(history_df[\"accuracy\"])\n",
    "plt.title(\"Training Accuracy (Optimized)\")\n",
    "plt.xlabel(\"Epoch\")\n",
    "plt.ylabel(\"Accuracy\")\n",
    "\n",
    "# Save the figure to the \"images\" subfolder\n",
    "plt.savefig(\"./images/optimized_accuracy.png\")\n",
    "\n",
    "# Display the plot (optional)\n",
    "plt.show()"
   ]
  },
  {
   "cell_type": "code",
   "execution_count": 19,
   "metadata": {
    "colab": {
     "base_uri": "https://localhost:8080/"
    },
    "executionInfo": {
     "elapsed": 616,
     "status": "ok",
     "timestamp": 1700101159345,
     "user": {
      "displayName": "Bryan StJohns",
      "userId": "11568675796848914042"
     },
     "user_tz": 300
    },
    "id": "-5PTnHz_CyPm",
    "outputId": "fff2271c-0e60-4e68-9e00-2dbe848f5f3b"
   },
   "outputs": [
    {
     "name": "stdout",
     "output_type": "stream",
     "text": [
      "268/268 - 0s - loss: 0.4535 - accuracy: 0.7900 - 284ms/epoch - 1ms/step\n",
      "Loss: 0.4534696936607361, Accuracy: 0.789970874786377\n"
     ]
    }
   ],
   "source": [
    "# Evaluate the model using the test data\n",
    "model_loss, model_accuracy = nn.evaluate(X_test_scaled, y_test, verbose=2)\n",
    "print(f\"Loss: {model_loss}, Accuracy: {model_accuracy}\")"
   ]
  },
  {
   "cell_type": "code",
   "execution_count": 20,
   "metadata": {
    "colab": {
     "base_uri": "https://localhost:8080/"
    },
    "executionInfo": {
     "elapsed": 105,
     "status": "ok",
     "timestamp": 1700101159446,
     "user": {
      "displayName": "Bryan StJohns",
      "userId": "11568675796848914042"
     },
     "user_tz": 300
    },
    "id": "7U9TYN1kCyPm",
    "outputId": "d0280c29-ae3b-422b-90a9-5ee189ee6b5c"
   },
   "outputs": [
    {
     "name": "stderr",
     "output_type": "stream",
     "text": [
      "c:\\Users\\johbr\\anaconda3\\envs\\dev\\lib\\site-packages\\keras\\src\\engine\\training.py:3079: UserWarning: You are saving your model as an HDF5 file via `model.save()`. This file format is considered legacy. We recommend using instead the native Keras format, e.g. `model.save('my_model.keras')`.\n",
      "  saving_api.save_model(\n"
     ]
    }
   ],
   "source": [
    "# Export our model to HDF5 file\n",
    "nn.save(\"./AlphabetSoupCharity_Optimization.h5\")"
   ]
  },
  {
   "cell_type": "code",
   "execution_count": null,
   "metadata": {
    "executionInfo": {
     "elapsed": 4,
     "status": "ok",
     "timestamp": 1700101159446,
     "user": {
      "displayName": "Bryan StJohns",
      "userId": "11568675796848914042"
     },
     "user_tz": 300
    },
    "id": "gWF9uGOtoDlF"
   },
   "outputs": [],
   "source": []
  }
 ],
 "metadata": {
  "colab": {
   "provenance": [
    {
     "file_id": "1SHa5CFPmWsf2yM5f6nI9m3Qigt0fh7yj",
     "timestamp": 1700101545797
    },
    {
     "file_id": "1r1GWXDN86khn3mRL4cDKVbgxRr1JEjJQ",
     "timestamp": 1699559671669
    }
   ]
  },
  "kernelspec": {
   "display_name": "Python 3",
   "language": "python",
   "name": "python3"
  },
  "language_info": {
   "codemirror_mode": {
    "name": "ipython",
    "version": 3
   },
   "file_extension": ".py",
   "mimetype": "text/x-python",
   "name": "python",
   "nbconvert_exporter": "python",
   "pygments_lexer": "ipython3",
   "version": "3.10.13"
  },
  "vscode": {
   "interpreter": {
    "hash": "31f2aee4e71d21fbe5cf8b01ff0e069b9275f58929596ceb00d14d90e3e16cd6"
   }
  }
 },
 "nbformat": 4,
 "nbformat_minor": 0
}
